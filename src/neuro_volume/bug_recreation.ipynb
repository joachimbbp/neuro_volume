{
 "cells": [
  {
   "cell_type": "markdown",
   "metadata": {},
   "source": [
    "# Recreating a Bug\n",
    "\n",
    "Let's see what happens when we get rid of that naive, redundant function to create the ouput volume<br>\n"
   ]
  },
  {
   "cell_type": "code",
   "execution_count": null,
   "metadata": {},
   "outputs": [],
   "source": [
    "import os\n",
    "import nibabel as nib\n",
    "import pylab as plt\n",
    "import numpy as np\n",
    "from nibabel.testing import data_path\n",
    "\n",
    "from functions import normalize_array, show_3D_array, view_sagittal_slices, parent_directory"
   ]
  },
  {
   "cell_type": "markdown",
   "metadata": {},
   "source": [
    "Just like before, we will load in the `nii` format, create an `nibabel` image, and create a normalized numpy array"
   ]
  },
  {
   "cell_type": "code",
   "execution_count": null,
   "metadata": {},
   "outputs": [],
   "source": [
    "parent_directory = parent_directory()\n",
    "input_filepath = os.path.join(parent_directory, \"media/sub-1001_T1w.nii\")\n",
    "output_folder = os.path.join(parent_directory, \"output/\")\n",
    "brain_file = os.path.join(data_path, input_filepath)\n",
    "brain_img = nib.load(brain_file)\n",
    "brain_tensor = brain_img.get_fdata()\n",
    "normalized_brain_tensor = np.array(normalize_array(brain_tensor)) #Tensors for VDB must be normalized to 0.0-1.0"
   ]
  },
  {
   "cell_type": "markdown",
   "metadata": {},
   "source": [
    "Let's see what happens when we visualize the `normalized_brain_tensor` "
   ]
  },
  {
   "cell_type": "code",
   "execution_count": null,
   "metadata": {},
   "outputs": [],
   "source": [
    "# Optional Debug Functions\n",
    "view_sagittal_slices(normalized_brain_tensor) #View all sagittal slices, long output\n",
    "show_3D_array(normalized_brain_tensor) #View the dataset in 3D, might take a sec"
   ]
  },
  {
   "cell_type": "markdown",
   "metadata": {},
   "source": [
    "The output looks identical. So our previous function seems confirmed as redundant!<br>\n",
    "Let's save the `.npm` and convert it to a VDB in Blender"
   ]
  },
  {
   "cell_type": "code",
   "execution_count": null,
   "metadata": {},
   "outputs": [],
   "source": [
    "#Save to output folder\n",
    "np.save(\"{}/normalized_brain_tensor.npy\".format(output_folder), normalized_brain_tensor)"
   ]
  },
  {
   "cell_type": "markdown",
   "metadata": {},
   "source": []
  }
 ],
 "metadata": {
  "kernelspec": {
   "display_name": ".venv",
   "language": "python",
   "name": "python3"
  },
  "language_info": {
   "codemirror_mode": {
    "name": "ipython",
    "version": 3
   },
   "file_extension": ".py",
   "mimetype": "text/x-python",
   "name": "python",
   "nbconvert_exporter": "python",
   "pygments_lexer": "ipython3",
   "version": "3.11.5"
  }
 },
 "nbformat": 4,
 "nbformat_minor": 2
}
