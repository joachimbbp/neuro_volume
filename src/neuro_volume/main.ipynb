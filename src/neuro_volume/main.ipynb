{
 "cells": [
  {
   "cell_type": "code",
   "execution_count": 6,
   "metadata": {},
   "outputs": [],
   "source": [
    "import os\n",
    "import nibabel as nib\n",
    "import pylab as plt\n",
    "import numpy as np\n",
    "from nibabel.testing import data_path\n",
    "from functions import *"
   ]
  },
  {
   "cell_type": "code",
   "execution_count": 7,
   "metadata": {},
   "outputs": [],
   "source": [
    "\n",
    "brain_file = os.path.join(data_path, \"/Users/joachimpfefferkorn/repos/neuro_volume/media/sub-1001_T1w.nii\")\n",
    "brain_img = nib.load(brain_file)\n",
    "brain_tensor = brain_img.get_fdata()\n",
    "normalized_brain_tensor = np.array(normalize_array(brain_tensor)) #Tensors for VDB must be normalized to 0.0-1.0\n"
   ]
  },
  {
   "cell_type": "code",
   "execution_count": null,
   "metadata": {},
   "outputs": [],
   "source": [
    "# Optional Debug Functions\n",
    "print(brain_img.header) #Prints metadata from original scan\n",
    "show_3D_array(normalized_brain_tensor) #View the dataset in 3D, might take a sec\n",
    "view_sagittal_slices(normalized_brain_tensor) #View all sagittal slices, long output"
   ]
  },
  {
   "cell_type": "code",
   "execution_count": 9,
   "metadata": {},
   "outputs": [],
   "source": [
    "np.save('brain_volume', create_volume(normalized_brain_tensor))"
   ]
  }
 ],
 "metadata": {
  "kernelspec": {
   "display_name": ".venv",
   "language": "python",
   "name": "python3"
  },
  "language_info": {
   "codemirror_mode": {
    "name": "ipython",
    "version": 3
   },
   "file_extension": ".py",
   "mimetype": "text/x-python",
   "name": "python",
   "nbconvert_exporter": "python",
   "pygments_lexer": "ipython3",
   "version": "3.11.5"
  }
 },
 "nbformat": 4,
 "nbformat_minor": 2
}
